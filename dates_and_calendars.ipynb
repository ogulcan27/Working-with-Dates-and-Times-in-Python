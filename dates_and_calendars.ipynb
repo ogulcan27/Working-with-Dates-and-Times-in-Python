{
 "cells": [
  {
   "cell_type": "markdown",
   "id": "d1ea0b9d",
   "metadata": {},
   "source": [
    "# WORKING WITH DATES AND TIMES IN PYTHON"
   ]
  },
  {
   "cell_type": "markdown",
   "id": "8a762bd0",
   "metadata": {},
   "source": [
    "Kullanacağımız dosyaları içe aktaralım. "
   ]
  },
  {
   "cell_type": "code",
   "execution_count": 1,
   "id": "376e9ea8",
   "metadata": {},
   "outputs": [],
   "source": [
    "import pickle\n",
    "\n",
    "file_path = \"florida_hurricane_dates.pkl\"\n",
    "with open(file_path, \"rb\") as file:\n",
    "    florida_hurricane_dates = pickle.load(file)"
   ]
  },
  {
   "cell_type": "markdown",
   "id": "5c843187",
   "metadata": {},
   "source": [
    "Çıktıları birbirinden ayırabilmek için 'ayrac()' isimli bir fonksiyon yazalım."
   ]
  },
  {
   "cell_type": "code",
   "execution_count": 2,
   "id": "6edc302f",
   "metadata": {},
   "outputs": [],
   "source": [
    "def ayrac():\n",
    "    print(\"\\n*****\\n\")"
   ]
  },
  {
   "cell_type": "markdown",
   "id": "2e623ebc",
   "metadata": {},
   "source": [
    "İçe aktardığımız dosyaları inceleyelim."
   ]
  },
  {
   "cell_type": "code",
   "execution_count": 3,
   "id": "d29c87dc",
   "metadata": {
    "scrolled": true
   },
   "outputs": [
    {
     "name": "stdout",
     "output_type": "stream",
     "text": [
      "[datetime.date(1988, 8, 4), datetime.date(1990, 10, 12), datetime.date(2003, 4, 20), datetime.date(1971, 9, 1), datetime.date(1988, 8, 23)]\n"
     ]
    }
   ],
   "source": [
    "print(florida_hurricane_dates[0:5])"
   ]
  },
  {
   "cell_type": "markdown",
   "id": "84774ca6",
   "metadata": {},
   "source": [
    "# Dates and Calendars"
   ]
  },
  {
   "cell_type": "markdown",
   "id": "ec726db1",
   "metadata": {},
   "source": [
    "+ Dates in python (Python'da tarihler)\n",
    "\n",
    "\n",
    "+ Math with dates (Tarihlerle matematik)\n",
    "\n",
    "\n",
    "+ Turning dates into strings (Tarihleri dizelere dönüştürme)"
   ]
  },
  {
   "cell_type": "markdown",
   "id": "ea6e88e9",
   "metadata": {},
   "source": [
    "## < Dates in Python > "
   ]
  },
  {
   "cell_type": "markdown",
   "id": "78d86bdd",
   "metadata": {},
   "source": [
    "Verileri zaman içinde nasıl analiz edileceğini bilmek, temel bir veri bilimi becerisidir. Python, tarihleri temsil etmek için **date** isimli özel bir tarih sınıfına sahiptir. Bu bölümde, tarih oluşturmayı ve bunlardan bazı temel bilgileri çıkarmayı göreceğiz. "
   ]
  },
  {
   "cell_type": "markdown",
   "id": "a23e0e8a",
   "metadata": {},
   "source": [
    "Aşağıdaki kod bloğunda, 2 adet fırtına tarihi **two_hurricanes** adlı değişkende verilmiş olsun. Bu tarihlerle ilgili bazı soruları **datetime** modülü kullanarak yanıtlayalım. \n",
    "\n",
    "+ datetime modülü = https://docs.python.org/3/library/datetime.html"
   ]
  },
  {
   "cell_type": "code",
   "execution_count": 4,
   "id": "1b830e48",
   "metadata": {},
   "outputs": [
    {
     "name": "stdout",
     "output_type": "stream",
     "text": [
      "2016\n",
      "10\n",
      "7\n",
      "\n",
      "*****\n",
      "\n",
      "4\n",
      "\n",
      "*****\n",
      "\n",
      "10\n"
     ]
    }
   ],
   "source": [
    "two_hurricanes = [\"10/7/2016\", \"6/21/2021\"]\n",
    "\n",
    "#1\n",
    "from datetime import date\n",
    "two_hurricanes_dates = [date(2016, 10, 7), date(2017, 6, 21)]\n",
    "print(two_hurricanes_dates[0].year)\n",
    "print(two_hurricanes_dates[0].month)\n",
    "print(two_hurricanes_dates[0].day)\n",
    "ayrac()\n",
    "\n",
    "#2\n",
    "print(two_hurricanes_dates[0].weekday())\n",
    "ayrac()\n",
    "\n",
    "#3 \n",
    "early_hurricanes = 0\n",
    "for hurricane in florida_hurricane_dates:\n",
    "    if hurricane.month < 6:\n",
    "        early_hurricanes = early_hurricanes + 1\n",
    "        \n",
    "print(early_hurricanes)"
   ]
  },
  {
   "cell_type": "markdown",
   "id": "93c670dd",
   "metadata": {},
   "source": [
    "+ 1-) **date()** işlevi ile python'un date nesnesini oluşturduk. Bu işlevde tarih sıralaması; yıl, ay, gün olacak şekilde yazılır. **year, month ve day** birer özniteliktir. **two_hurricane_dates** listesindeki ilk elemanın yıl, ay ve gününü yazdırdık. \n",
    "\n",
    "\n",
    "+ 2-) **weekday()** işlevi ile **2016/10/7** tarihinin haftanın hangi günü olduğunu gördük. Haftanın günlerini 0'dan başlayarak saydığını unutmamak lazım.\n",
    "\n",
    "\n",
    "+ 3-) **florida_hurricane_dates** isimli değişkendeki tarihlerdeki, 6. aydan önce gerçekleşen kasırgaların sayısını döndürdük. "
   ]
  },
  {
   "cell_type": "markdown",
   "id": "570626af",
   "metadata": {},
   "source": [
    "## < Math With Dates > "
   ]
  },
  {
   "cell_type": "markdown",
   "id": "4ab4b066",
   "metadata": {},
   "source": [
    "Bu bölümde olaylar arasındaki günleri saymayı, birkaç gün ileri veya geri gitmeyi, günleri sıraya koymayı vb şeyleri göreceğiz. Aşağıdaki kod bloklarında, bazı sorulara yanıt arayalım. "
   ]
  },
  {
   "cell_type": "code",
   "execution_count": 5,
   "id": "424c0bee",
   "metadata": {},
   "outputs": [
    {
     "name": "stdout",
     "output_type": "stream",
     "text": [
      "2017-11-05\n",
      "\n",
      "*****\n",
      "\n",
      "29\n",
      "\n",
      "*****\n",
      "\n",
      "{1: 0, 2: 1, 3: 0, 4: 1, 5: 8, 6: 32, 7: 21, 8: 49, 9: 70, 10: 43, 11: 9, 12: 1}\n"
     ]
    }
   ],
   "source": [
    "#Bu iki tarih arasında kaç gün var? \n",
    "\n",
    "#1\n",
    "from datetime import date\n",
    "d1 = date(2017, 11, 5)\n",
    "d2 = date(2017, 12, 4)\n",
    "l = [d1, d2]\n",
    "\n",
    "#2\n",
    "print(min(l))\n",
    "ayrac()\n",
    "\n",
    "#3\n",
    "delta = d2 - d1\n",
    "print(delta.days)\n",
    "ayrac()\n",
    "\n",
    "#4 \n",
    "hurricanes_each_month = {1: 0, 2: 0, 3: 0, 4: 0, 5: 0, 6:0,\n",
    "                         7: 0, 8:0, 9:0, 10:0, 11:0, 12:0}\n",
    "\n",
    "for hurricane in florida_hurricane_dates:\n",
    "  month = hurricane.month\n",
    "  hurricanes_each_month[month] += 1\n",
    "  \n",
    "print(hurricanes_each_month)"
   ]
  },
  {
   "cell_type": "markdown",
   "id": "2ad50c2f",
   "metadata": {},
   "source": [
    "+ 1-) d1 ve d2 olarak 2 adet date nesnesi oluşturduk ve bunlar l isimli bir listeye ekledik.\n",
    "\n",
    "\n",
    "+ 2-) l listesindeki en küçük değer, daha küçük olan tarihtir.\n",
    "\n",
    "\n",
    "+ 3-) 2 tarih arasındaki farkı delta adlı bir değişkene atadık ve **days** özniteliği ile aradaki gün farkını gördük. \n",
    "\n",
    "\n",
    "+ 4-) **hurricanes_each_month** isimli bir dictionary oluşturduk ve 1'den 12'ye kadar key:value olacak şekilde ayarladık. Bu değişken, her ay kaç tane kasırga olduğunu bize verecek. \n",
    "\n",
    "  For döngüsü içerisinde **month** isimli bir değişken oluşturuyoruz ve bu değişkene her sorguda incelenen date nesnesindeki **month** kısmını atıyoruz. Ardından **hurricanes_each_month** değişkeninde, **month** değişkeninin denk geldiği key'i arttırıyoruz. Böylece her ay kaç tane kasırga olduğunu görebilmiş oluyoruz. Karışık olduysa üzgünüm dostum :( "
   ]
  },
  {
   "cell_type": "markdown",
   "id": "fd67a395",
   "metadata": {},
   "source": [
    "## < Turning Dates Into Strings > "
   ]
  },
  {
   "cell_type": "markdown",
   "id": "eaa29eef",
   "metadata": {},
   "source": [
    "Bu bölümde tarihleri, metne çevirmeyi göreceğiz."
   ]
  },
  {
   "cell_type": "code",
   "execution_count": 6,
   "id": "4ea11abf",
   "metadata": {},
   "outputs": [
    {
     "name": "stdout",
     "output_type": "stream",
     "text": [
      "2017-11-05\n",
      "\n",
      "*****\n",
      "\n",
      "['1999-12-31', '2000-01-01']\n",
      "\n",
      "*****\n",
      "\n",
      "2017-11-05\n",
      "\n",
      "*****\n",
      "\n",
      "2017\n",
      "\n",
      "*****\n",
      "\n",
      "2017/11/05\n"
     ]
    }
   ],
   "source": [
    "from datetime import date\n",
    "\n",
    "#1\n",
    "d = date(2017, 11, 5)\n",
    "print(d)\n",
    "ayrac()\n",
    "\n",
    "#2\n",
    "some_dates = [\"2000-01-01\", \"1999-12-31\"]\n",
    "print(sorted(some_dates))\n",
    "ayrac()\n",
    "\n",
    "#3\n",
    "print(d.isoformat())\n",
    "ayrac()\n",
    "\n",
    "#4\n",
    "print(d.strftime(\"%Y\"))\n",
    "ayrac()\n",
    "\n",
    "print(d.strftime(\"%Y/%m/%d\"))"
   ]
  },
  {
   "cell_type": "markdown",
   "id": "930ee8a5",
   "metadata": {},
   "source": [
    "+ 1-) Python'da bir date nesnesi, yıl-ay-gün (YYYY-MM-DD) formatında yazılır. Bu formata **ISO** ya da **ISO 8601** formatı adı verilir. **ISO 8601** dizeleri her zaman aynı uzunluktadır çünkü ay ve gün 10'dan küçük olduğunda 0'larla yazılır. Bu, **ISO 8601** formatının bir avantajıdır. \n",
    "\n",
    "\n",
    "+ 2-) **ISO 8601** formatının bir başka avantajı ise tarihlerin doğru şekilde sıralanabilmesidir. Eğer tarih formatında önce, ay veya gün olsaydı dizeler kronolojik sırayla sıralanamazdı. \n",
    "\n",
    "\n",
    "+ 3-) **ISO 8601** formatında olmayan bir tarihi, bu formata dönüştürmek için **isoformat()** isimli işlevi kullanabiliriz. \n",
    "\n",
    "\n",
    "+ 4-) **strftime()** işlevi ile tarihleri başka yollarla (formatta) temsil edebiliriz. d adlı date nesnesini **strftime('%Y')** ile sadece yıl olarak temsil ettik. "
   ]
  },
  {
   "cell_type": "markdown",
   "id": "713cfa18",
   "metadata": {},
   "source": [
    "Aşağıdaki kod bloğunda, **florida_hurricane_dates** listesindeki en küçük tarihi farklı formatlarda yazdıralım. "
   ]
  },
  {
   "cell_type": "code",
   "execution_count": 7,
   "id": "5f3d60c0",
   "metadata": {},
   "outputs": [
    {
     "name": "stdout",
     "output_type": "stream",
     "text": [
      "Our earliest hurricane date with iso 8601 format 1950-08-31\n",
      "\n",
      "*****\n",
      "\n",
      "Our earliest hurricane date with different format 08/31/1950\n"
     ]
    }
   ],
   "source": [
    "first_date = min(florida_hurricane_dates)\n",
    "iso = \"Our earliest hurricane date with iso 8601 format \" + first_date.isoformat()\n",
    "us = \"Our earliest hurricane date with different format \" + first_date.strftime(\"%m/%d/%Y\")\n",
    "\n",
    "print(iso)\n",
    "ayrac()\n",
    "print(us)"
   ]
  }
 ],
 "metadata": {
  "kernelspec": {
   "display_name": "Python 3 (ipykernel)",
   "language": "python",
   "name": "python3"
  },
  "language_info": {
   "codemirror_mode": {
    "name": "ipython",
    "version": 3
   },
   "file_extension": ".py",
   "mimetype": "text/x-python",
   "name": "python",
   "nbconvert_exporter": "python",
   "pygments_lexer": "ipython3",
   "version": "3.9.13"
  }
 },
 "nbformat": 4,
 "nbformat_minor": 5
}
