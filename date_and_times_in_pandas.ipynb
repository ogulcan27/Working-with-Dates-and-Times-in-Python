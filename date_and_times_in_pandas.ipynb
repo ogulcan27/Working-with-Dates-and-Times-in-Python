{
 "cells": [
  {
   "cell_type": "markdown",
   "id": "aad40007",
   "metadata": {},
   "source": [
    "# WORKING WTH DATES AND TIMES IN PYTHON"
   ]
  },
  {
   "cell_type": "markdown",
   "id": "a06f09a8",
   "metadata": {},
   "source": [
    "Çıktıları birbirinden ayırmak için ayrac() isimli bir fonksiyon yazalım."
   ]
  },
  {
   "cell_type": "code",
   "execution_count": 1,
   "id": "d7ec5b57",
   "metadata": {},
   "outputs": [],
   "source": [
    "def ayrac():\n",
    "    print(\"\\n*****\\n\")"
   ]
  },
  {
   "cell_type": "markdown",
   "id": "5ec9a3f7",
   "metadata": {},
   "source": [
    "Kullancağımız dosyaları içe aktaralım"
   ]
  },
  {
   "cell_type": "code",
   "execution_count": 2,
   "id": "7ac990f8",
   "metadata": {},
   "outputs": [
    {
     "name": "stdout",
     "output_type": "stream",
     "text": [
      "            Start date             End date  Start station number  \\\n",
      "0  2017-10-01 15:23:25  2017-10-01 15:26:26                 31038   \n",
      "1  2017-10-01 15:42:57  2017-10-01 17:49:59                 31036   \n",
      "2  2017-10-02 06:37:10  2017-10-02 06:42:53                 31036   \n",
      "\n",
      "                   Start station  End station number  \\\n",
      "0           Glebe Rd & 11th St N               31036   \n",
      "1  George Mason Dr & Wilson Blvd               31036   \n",
      "2  George Mason Dr & Wilson Blvd               31037   \n",
      "\n",
      "                            End station Bike number Member type  \n",
      "0         George Mason Dr & Wilson Blvd      W20529      Member  \n",
      "1         George Mason Dr & Wilson Blvd      W20529      Casual  \n",
      "2  Ballston Metro / N Stuart & 9th St N      W20529      Member  \n"
     ]
    }
   ],
   "source": [
    "import pandas as pd\n",
    "\n",
    "capital_onebike = pd.read_csv(\"capital-onebike.csv\")\n",
    "print(capital_onebike.head(3))"
   ]
  },
  {
   "cell_type": "markdown",
   "id": "b24eb249",
   "metadata": {},
   "source": [
    "# Dates and Times in Pandas "
   ]
  },
  {
   "cell_type": "markdown",
   "id": "4eb4bb73",
   "metadata": {},
   "source": [
    "+ Reading date and time data in pandas (Pandas'ta tarih ve saat verilerini okuma)\n",
    "\n",
    "\n",
    "+ Summarizing datetime data in pandas (Pandas'ta datetime verilerini özetleme)"
   ]
  },
  {
   "cell_type": "markdown",
   "id": "f54c539e",
   "metadata": {},
   "source": [
    "## < Reading Date and Time in Pandas >  "
   ]
  },
  {
   "cell_type": "markdown",
   "id": "f04bbaee",
   "metadata": {},
   "source": [
    "Aşağıdaki kod bloklarında Pandas kullanarak tarih ve zaman nesneleriyle uğraşacağız. Pandas'ta da aynı datetime modülü gibi date-time nesneleriyle uğraşmamızı sağlayacak işlevler vardır. Bunlar başlıca: \n",
    "\n",
    "\n",
    "+ to_datetime: Belirli bir formatta yazılmış tarih/saat verilerini datetime nesnelerine dönüştürür.\n",
    "\n",
    "Tutorial = https://pandas.pydata.org/pandas-docs/stable/reference/api/pandas.to_datetime.html\n",
    "\n",
    "+ date_range: Belirli bir tarih aralığında eşit aralıklarla tarih/saat verileri oluşturur.\n",
    "\n",
    "Tutorial = https://pandas.pydata.org/pandas-docs/stable/reference/api/pandas.date_range.html\n",
    "\n",
    "+ Timestamp: Tarih/saat verisini içeren bir nesne oluşturur.\n",
    "\n",
    "Tutorial = https://pandas.pydata.org/pandas-docs/stable/reference/api/pandas.Timestamp.html\n",
    "\n",
    "+ DatetimeIndex: datetime nesnelerinden oluşan bir dizin oluşturur.\n",
    "\n",
    "Tutorial = https://pandas.pydata.org/pandas-docs/stable/reference/api/pandas.DatetimeIndex.html\n",
    "\n",
    "+ strftime: datetime nesnelerinden oluşan bir diziyi belirli bir formata göre biçimlendirir.\n",
    "\n",
    "Tutorial = https://pandas.pydata.org/pandas-docs/stable/reference/api/pandas.Series.dt.strftime.html\n",
    "\n",
    "+ pd.Timestamp.now: Şu anki zamanı datetime nesnesi olarak verir.\n",
    "\n",
    "Tutorial = https://pandas.pydata.org/pandas-docs/stable/reference/api/pandas.Timestamp.now.html\n",
    "\n",
    "+ pd.Timestamp.utcnow: Şu anki zamanı UTC (Koordinasyonlu Evrensel Saat) olarak datetime nesnesi olarak verir.\n",
    "\n",
    "Tutorial = https://pandas.pydata.org/pandas-docs/stable/reference/api/pandas.Timestamp.utcnow.html"
   ]
  },
  {
   "cell_type": "code",
   "execution_count": 3,
   "id": "6c2a17a0",
   "metadata": {
    "scrolled": true
   },
   "outputs": [
    {
     "data": {
      "text/html": [
       "<div>\n",
       "<style scoped>\n",
       "    .dataframe tbody tr th:only-of-type {\n",
       "        vertical-align: middle;\n",
       "    }\n",
       "\n",
       "    .dataframe tbody tr th {\n",
       "        vertical-align: top;\n",
       "    }\n",
       "\n",
       "    .dataframe thead th {\n",
       "        text-align: right;\n",
       "    }\n",
       "</style>\n",
       "<table border=\"1\" class=\"dataframe\">\n",
       "  <thead>\n",
       "    <tr style=\"text-align: right;\">\n",
       "      <th></th>\n",
       "      <th>Start date</th>\n",
       "      <th>End date</th>\n",
       "      <th>Start station number</th>\n",
       "      <th>Start station</th>\n",
       "      <th>End station number</th>\n",
       "      <th>End station</th>\n",
       "      <th>Bike number</th>\n",
       "      <th>Member type</th>\n",
       "    </tr>\n",
       "  </thead>\n",
       "  <tbody>\n",
       "    <tr>\n",
       "      <th>0</th>\n",
       "      <td>2017-10-01 15:23:25</td>\n",
       "      <td>2017-10-01 15:26:26</td>\n",
       "      <td>31038</td>\n",
       "      <td>Glebe Rd &amp; 11th St N</td>\n",
       "      <td>31036</td>\n",
       "      <td>George Mason Dr &amp; Wilson Blvd</td>\n",
       "      <td>W20529</td>\n",
       "      <td>Member</td>\n",
       "    </tr>\n",
       "    <tr>\n",
       "      <th>1</th>\n",
       "      <td>2017-10-01 15:42:57</td>\n",
       "      <td>2017-10-01 17:49:59</td>\n",
       "      <td>31036</td>\n",
       "      <td>George Mason Dr &amp; Wilson Blvd</td>\n",
       "      <td>31036</td>\n",
       "      <td>George Mason Dr &amp; Wilson Blvd</td>\n",
       "      <td>W20529</td>\n",
       "      <td>Casual</td>\n",
       "    </tr>\n",
       "    <tr>\n",
       "      <th>2</th>\n",
       "      <td>2017-10-02 06:37:10</td>\n",
       "      <td>2017-10-02 06:42:53</td>\n",
       "      <td>31036</td>\n",
       "      <td>George Mason Dr &amp; Wilson Blvd</td>\n",
       "      <td>31037</td>\n",
       "      <td>Ballston Metro / N Stuart &amp; 9th St N</td>\n",
       "      <td>W20529</td>\n",
       "      <td>Member</td>\n",
       "    </tr>\n",
       "  </tbody>\n",
       "</table>\n",
       "</div>"
      ],
      "text/plain": [
       "            Start date             End date  Start station number  \\\n",
       "0  2017-10-01 15:23:25  2017-10-01 15:26:26                 31038   \n",
       "1  2017-10-01 15:42:57  2017-10-01 17:49:59                 31036   \n",
       "2  2017-10-02 06:37:10  2017-10-02 06:42:53                 31036   \n",
       "\n",
       "                   Start station  End station number  \\\n",
       "0           Glebe Rd & 11th St N               31036   \n",
       "1  George Mason Dr & Wilson Blvd               31036   \n",
       "2  George Mason Dr & Wilson Blvd               31037   \n",
       "\n",
       "                            End station Bike number Member type  \n",
       "0         George Mason Dr & Wilson Blvd      W20529      Member  \n",
       "1         George Mason Dr & Wilson Blvd      W20529      Casual  \n",
       "2  Ballston Metro / N Stuart & 9th St N      W20529      Member  "
      ]
     },
     "execution_count": 3,
     "metadata": {},
     "output_type": "execute_result"
    }
   ],
   "source": [
    "import pandas as pd \n",
    "\n",
    "capital_onebike.head(3)"
   ]
  },
  {
   "cell_type": "markdown",
   "id": "3778a5a0",
   "metadata": {},
   "source": [
    "+ capital_onebike veri setinin ilk 3 satırını döndürdük."
   ]
  },
  {
   "cell_type": "code",
   "execution_count": 4,
   "id": "7fbb3b77",
   "metadata": {
    "scrolled": true
   },
   "outputs": [
    {
     "name": "stdout",
     "output_type": "stream",
     "text": [
      "0      2017-10-01 15:23:25\n",
      "1      2017-10-01 15:42:57\n",
      "2      2017-10-02 06:37:10\n",
      "3      2017-10-02 08:56:45\n",
      "4      2017-10-02 18:23:48\n",
      "              ...         \n",
      "285    2017-12-29 14:32:55\n",
      "286    2017-12-29 15:08:26\n",
      "287    2017-12-29 20:33:34\n",
      "288    2017-12-30 13:51:03\n",
      "289    2017-12-30 15:09:03\n",
      "Name: Start date, Length: 290, dtype: object\n",
      "\n",
      "*****\n",
      "\n",
      "0      2017-10-01 15:26:26\n",
      "1      2017-10-01 17:49:59\n",
      "2      2017-10-02 06:42:53\n",
      "3      2017-10-02 09:18:03\n",
      "4      2017-10-02 18:45:05\n",
      "              ...         \n",
      "285    2017-12-29 14:43:46\n",
      "286    2017-12-29 15:18:51\n",
      "287    2017-12-29 20:38:13\n",
      "288    2017-12-30 13:54:33\n",
      "289    2017-12-30 15:19:13\n",
      "Name: End date, Length: 290, dtype: object\n"
     ]
    }
   ],
   "source": [
    "print(capital_onebike[\"Start date\"])\n",
    "ayrac()\n",
    "print(capital_onebike[\"End date\"])"
   ]
  },
  {
   "cell_type": "markdown",
   "id": "ecab6ec9",
   "metadata": {},
   "source": [
    "+ capital_onebike veri setindeki **Start date** ve **End date** sütunlarını döndürdük."
   ]
  },
  {
   "cell_type": "code",
   "execution_count": 5,
   "id": "564589fe",
   "metadata": {
    "scrolled": true
   },
   "outputs": [
    {
     "name": "stdout",
     "output_type": "stream",
     "text": [
      "Start date                               2017-10-02 06:37:10\n",
      "End date                                 2017-10-02 06:42:53\n",
      "Start station number                                   31036\n",
      "Start station                  George Mason Dr & Wilson Blvd\n",
      "End station number                                     31037\n",
      "End station             Ballston Metro / N Stuart & 9th St N\n",
      "Bike number                                           W20529\n",
      "Member type                                           Member\n",
      "Name: 2, dtype: object\n"
     ]
    }
   ],
   "source": [
    "print(capital_onebike.iloc[2])"
   ]
  },
  {
   "cell_type": "markdown",
   "id": "68faaf11",
   "metadata": {},
   "source": [
    "+ 2 numaralı satırı **iloc[ ]** işlevi ile döndürdük."
   ]
  },
  {
   "cell_type": "code",
   "execution_count": 6,
   "id": "609f1de9",
   "metadata": {},
   "outputs": [
    {
     "data": {
      "text/html": [
       "<div>\n",
       "<style scoped>\n",
       "    .dataframe tbody tr th:only-of-type {\n",
       "        vertical-align: middle;\n",
       "    }\n",
       "\n",
       "    .dataframe tbody tr th {\n",
       "        vertical-align: top;\n",
       "    }\n",
       "\n",
       "    .dataframe thead th {\n",
       "        text-align: right;\n",
       "    }\n",
       "</style>\n",
       "<table border=\"1\" class=\"dataframe\">\n",
       "  <thead>\n",
       "    <tr style=\"text-align: right;\">\n",
       "      <th></th>\n",
       "      <th>Start date</th>\n",
       "      <th>End date</th>\n",
       "      <th>Start station number</th>\n",
       "      <th>Start station</th>\n",
       "      <th>End station number</th>\n",
       "      <th>End station</th>\n",
       "      <th>Bike number</th>\n",
       "      <th>Member type</th>\n",
       "    </tr>\n",
       "  </thead>\n",
       "  <tbody>\n",
       "    <tr>\n",
       "      <th>0</th>\n",
       "      <td>2017-10-01 15:23:25</td>\n",
       "      <td>2017-10-01 15:26:26</td>\n",
       "      <td>31038</td>\n",
       "      <td>Glebe Rd &amp; 11th St N</td>\n",
       "      <td>31036</td>\n",
       "      <td>George Mason Dr &amp; Wilson Blvd</td>\n",
       "      <td>W20529</td>\n",
       "      <td>Member</td>\n",
       "    </tr>\n",
       "    <tr>\n",
       "      <th>1</th>\n",
       "      <td>2017-10-01 15:42:57</td>\n",
       "      <td>2017-10-01 17:49:59</td>\n",
       "      <td>31036</td>\n",
       "      <td>George Mason Dr &amp; Wilson Blvd</td>\n",
       "      <td>31036</td>\n",
       "      <td>George Mason Dr &amp; Wilson Blvd</td>\n",
       "      <td>W20529</td>\n",
       "      <td>Casual</td>\n",
       "    </tr>\n",
       "    <tr>\n",
       "      <th>2</th>\n",
       "      <td>2017-10-02 06:37:10</td>\n",
       "      <td>2017-10-02 06:42:53</td>\n",
       "      <td>31036</td>\n",
       "      <td>George Mason Dr &amp; Wilson Blvd</td>\n",
       "      <td>31037</td>\n",
       "      <td>Ballston Metro / N Stuart &amp; 9th St N</td>\n",
       "      <td>W20529</td>\n",
       "      <td>Member</td>\n",
       "    </tr>\n",
       "  </tbody>\n",
       "</table>\n",
       "</div>"
      ],
      "text/plain": [
       "           Start date            End date  Start station number  \\\n",
       "0 2017-10-01 15:23:25 2017-10-01 15:26:26                 31038   \n",
       "1 2017-10-01 15:42:57 2017-10-01 17:49:59                 31036   \n",
       "2 2017-10-02 06:37:10 2017-10-02 06:42:53                 31036   \n",
       "\n",
       "                   Start station  End station number  \\\n",
       "0           Glebe Rd & 11th St N               31036   \n",
       "1  George Mason Dr & Wilson Blvd               31036   \n",
       "2  George Mason Dr & Wilson Blvd               31037   \n",
       "\n",
       "                            End station Bike number Member type  \n",
       "0         George Mason Dr & Wilson Blvd      W20529      Member  \n",
       "1         George Mason Dr & Wilson Blvd      W20529      Casual  \n",
       "2  Ballston Metro / N Stuart & 9th St N      W20529      Member  "
      ]
     },
     "execution_count": 6,
     "metadata": {},
     "output_type": "execute_result"
    }
   ],
   "source": [
    "rides = pd.read_csv(\"capital-onebike.csv\", \n",
    "                    parse_dates = [\"Start date\", \"End date\"])\n",
    "\n",
    "rides.head(3)"
   ]
  },
  {
   "cell_type": "markdown",
   "id": "0b1e9e55",
   "metadata": {},
   "source": [
    "+ capital-onebike veri setindeki **Start date** ve **End date** sütunları ilk içe aktarma işleminde string veri tipindeydi. Ancak **parse_dates** parametresine bu iki sütunun adını girince Pandas, bu sütunları bir datetime nesnesi olarak ele aldı. "
   ]
  },
  {
   "cell_type": "code",
   "execution_count": 7,
   "id": "3004953d",
   "metadata": {
    "scrolled": true
   },
   "outputs": [
    {
     "name": "stdout",
     "output_type": "stream",
     "text": [
      "<class 'str'>\n",
      "\n",
      "*****\n",
      "\n",
      "<class 'pandas._libs.tslibs.timestamps.Timestamp'>\n"
     ]
    }
   ],
   "source": [
    "print(type(capital_onebike[\"Start date\"][0]))\n",
    "ayrac()\n",
    "print(type(rides[\"Start date\"][0]))"
   ]
  },
  {
   "cell_type": "markdown",
   "id": "608fb6bb",
   "metadata": {},
   "source": [
    "+ Yukarıdaki kod bloğunun açıklamasının, sağlaması. capital_onebike'taki **Start date** ve **End date** sütunlarındaki değerler **str** iken, rides'takiler Pandas'ın **datetime** nesnesi oldu. "
   ]
  },
  {
   "cell_type": "code",
   "execution_count": 8,
   "id": "a97591d0",
   "metadata": {},
   "outputs": [
    {
     "name": "stdout",
     "output_type": "stream",
     "text": [
      "0     2017-10-01 15:23:25\n",
      "1     2017-10-01 15:42:57\n",
      "2     2017-10-02 06:37:10\n",
      "3     2017-10-02 08:56:45\n",
      "4     2017-10-02 18:23:48\n",
      "              ...        \n",
      "285   2017-12-29 14:32:55\n",
      "286   2017-12-29 15:08:26\n",
      "287   2017-12-29 20:33:34\n",
      "288   2017-12-30 13:51:03\n",
      "289   2017-12-30 15:09:03\n",
      "Name: Start date, Length: 290, dtype: datetime64[ns]\n",
      "\n",
      "*****\n",
      "\n",
      "<class 'pandas._libs.tslibs.timestamps.Timestamp'>\n"
     ]
    }
   ],
   "source": [
    "capital_onebike[\"Start date\"] = pd.to_datetime(capital_onebike[\"Start date\"],\n",
    "                                              format = \"%Y-%m-%d %H:%M:%S\")\n",
    "print(capital_onebike[\"Start date\"])\n",
    "ayrac()\n",
    "print(type(capital_onebike[\"Start date\"][0]))"
   ]
  },
  {
   "cell_type": "markdown",
   "id": "4e155bed",
   "metadata": {},
   "source": [
    "+ Ya da bu kod bloğunda olduğu gibi **pd.to_datetime()** işlevini kullanarak sütundaki string veri tipindeki verileri datetime nesnesine dönüştürebilir ve **format** parametresine de yazılmasını istediğimiz formatı ekleyebiliriz."
   ]
  },
  {
   "cell_type": "code",
   "execution_count": 9,
   "id": "e7529e5b",
   "metadata": {
    "scrolled": true
   },
   "outputs": [
    {
     "data": {
      "text/html": [
       "<div>\n",
       "<style scoped>\n",
       "    .dataframe tbody tr th:only-of-type {\n",
       "        vertical-align: middle;\n",
       "    }\n",
       "\n",
       "    .dataframe tbody tr th {\n",
       "        vertical-align: top;\n",
       "    }\n",
       "\n",
       "    .dataframe thead th {\n",
       "        text-align: right;\n",
       "    }\n",
       "</style>\n",
       "<table border=\"1\" class=\"dataframe\">\n",
       "  <thead>\n",
       "    <tr style=\"text-align: right;\">\n",
       "      <th></th>\n",
       "      <th>Start date</th>\n",
       "      <th>End date</th>\n",
       "      <th>Start station number</th>\n",
       "      <th>Start station</th>\n",
       "      <th>End station number</th>\n",
       "      <th>End station</th>\n",
       "      <th>Bike number</th>\n",
       "      <th>Member type</th>\n",
       "      <th>Duration</th>\n",
       "    </tr>\n",
       "  </thead>\n",
       "  <tbody>\n",
       "    <tr>\n",
       "      <th>0</th>\n",
       "      <td>2017-10-01 15:23:25</td>\n",
       "      <td>2017-10-01 15:26:26</td>\n",
       "      <td>31038</td>\n",
       "      <td>Glebe Rd &amp; 11th St N</td>\n",
       "      <td>31036</td>\n",
       "      <td>George Mason Dr &amp; Wilson Blvd</td>\n",
       "      <td>W20529</td>\n",
       "      <td>Member</td>\n",
       "      <td>0 days 00:03:01</td>\n",
       "    </tr>\n",
       "    <tr>\n",
       "      <th>1</th>\n",
       "      <td>2017-10-01 15:42:57</td>\n",
       "      <td>2017-10-01 17:49:59</td>\n",
       "      <td>31036</td>\n",
       "      <td>George Mason Dr &amp; Wilson Blvd</td>\n",
       "      <td>31036</td>\n",
       "      <td>George Mason Dr &amp; Wilson Blvd</td>\n",
       "      <td>W20529</td>\n",
       "      <td>Casual</td>\n",
       "      <td>0 days 02:07:02</td>\n",
       "    </tr>\n",
       "    <tr>\n",
       "      <th>2</th>\n",
       "      <td>2017-10-02 06:37:10</td>\n",
       "      <td>2017-10-02 06:42:53</td>\n",
       "      <td>31036</td>\n",
       "      <td>George Mason Dr &amp; Wilson Blvd</td>\n",
       "      <td>31037</td>\n",
       "      <td>Ballston Metro / N Stuart &amp; 9th St N</td>\n",
       "      <td>W20529</td>\n",
       "      <td>Member</td>\n",
       "      <td>0 days 00:05:43</td>\n",
       "    </tr>\n",
       "  </tbody>\n",
       "</table>\n",
       "</div>"
      ],
      "text/plain": [
       "           Start date            End date  Start station number  \\\n",
       "0 2017-10-01 15:23:25 2017-10-01 15:26:26                 31038   \n",
       "1 2017-10-01 15:42:57 2017-10-01 17:49:59                 31036   \n",
       "2 2017-10-02 06:37:10 2017-10-02 06:42:53                 31036   \n",
       "\n",
       "                   Start station  End station number  \\\n",
       "0           Glebe Rd & 11th St N               31036   \n",
       "1  George Mason Dr & Wilson Blvd               31036   \n",
       "2  George Mason Dr & Wilson Blvd               31037   \n",
       "\n",
       "                            End station Bike number Member type  \\\n",
       "0         George Mason Dr & Wilson Blvd      W20529      Member   \n",
       "1         George Mason Dr & Wilson Blvd      W20529      Casual   \n",
       "2  Ballston Metro / N Stuart & 9th St N      W20529      Member   \n",
       "\n",
       "         Duration  \n",
       "0 0 days 00:03:01  \n",
       "1 0 days 02:07:02  \n",
       "2 0 days 00:05:43  "
      ]
     },
     "execution_count": 9,
     "metadata": {},
     "output_type": "execute_result"
    }
   ],
   "source": [
    "rides[\"Duration\"] = rides[\"End date\"] - rides[\"Start date\"]\n",
    "rides.head(3)"
   ]
  },
  {
   "cell_type": "markdown",
   "id": "84d71eeb",
   "metadata": {},
   "source": [
    "+ rides adlı, Start date ve End date sütunlarındaki verileri, datetime tipinde olan veri setine **Duration** isimli yeni bir sütun oluşturduk. Bu sütunda, her satırdaki Start date ve End date değerleri arasında geçen süre bulunmakta. "
   ]
  },
  {
   "cell_type": "code",
   "execution_count": 10,
   "id": "716384d5",
   "metadata": {
    "scrolled": true
   },
   "outputs": [
    {
     "name": "stdout",
     "output_type": "stream",
     "text": [
      "0       181.0\n",
      "1      7622.0\n",
      "2       343.0\n",
      "3      1278.0\n",
      "4      1277.0\n",
      "        ...  \n",
      "285     651.0\n",
      "286     625.0\n",
      "287     279.0\n",
      "288     210.0\n",
      "289     610.0\n",
      "Name: Duration, Length: 290, dtype: float64\n",
      "\n",
      "*****\n",
      "\n"
     ]
    },
    {
     "data": {
      "text/html": [
       "<div>\n",
       "<style scoped>\n",
       "    .dataframe tbody tr th:only-of-type {\n",
       "        vertical-align: middle;\n",
       "    }\n",
       "\n",
       "    .dataframe tbody tr th {\n",
       "        vertical-align: top;\n",
       "    }\n",
       "\n",
       "    .dataframe thead th {\n",
       "        text-align: right;\n",
       "    }\n",
       "</style>\n",
       "<table border=\"1\" class=\"dataframe\">\n",
       "  <thead>\n",
       "    <tr style=\"text-align: right;\">\n",
       "      <th></th>\n",
       "      <th>Start date</th>\n",
       "      <th>End date</th>\n",
       "      <th>Start station number</th>\n",
       "      <th>Start station</th>\n",
       "      <th>End station number</th>\n",
       "      <th>End station</th>\n",
       "      <th>Bike number</th>\n",
       "      <th>Member type</th>\n",
       "      <th>Duration</th>\n",
       "      <th>total_seconds</th>\n",
       "    </tr>\n",
       "  </thead>\n",
       "  <tbody>\n",
       "    <tr>\n",
       "      <th>0</th>\n",
       "      <td>2017-10-01 15:23:25</td>\n",
       "      <td>2017-10-01 15:26:26</td>\n",
       "      <td>31038</td>\n",
       "      <td>Glebe Rd &amp; 11th St N</td>\n",
       "      <td>31036</td>\n",
       "      <td>George Mason Dr &amp; Wilson Blvd</td>\n",
       "      <td>W20529</td>\n",
       "      <td>Member</td>\n",
       "      <td>0 days 00:03:01</td>\n",
       "      <td>181.0</td>\n",
       "    </tr>\n",
       "    <tr>\n",
       "      <th>1</th>\n",
       "      <td>2017-10-01 15:42:57</td>\n",
       "      <td>2017-10-01 17:49:59</td>\n",
       "      <td>31036</td>\n",
       "      <td>George Mason Dr &amp; Wilson Blvd</td>\n",
       "      <td>31036</td>\n",
       "      <td>George Mason Dr &amp; Wilson Blvd</td>\n",
       "      <td>W20529</td>\n",
       "      <td>Casual</td>\n",
       "      <td>0 days 02:07:02</td>\n",
       "      <td>7622.0</td>\n",
       "    </tr>\n",
       "    <tr>\n",
       "      <th>2</th>\n",
       "      <td>2017-10-02 06:37:10</td>\n",
       "      <td>2017-10-02 06:42:53</td>\n",
       "      <td>31036</td>\n",
       "      <td>George Mason Dr &amp; Wilson Blvd</td>\n",
       "      <td>31037</td>\n",
       "      <td>Ballston Metro / N Stuart &amp; 9th St N</td>\n",
       "      <td>W20529</td>\n",
       "      <td>Member</td>\n",
       "      <td>0 days 00:05:43</td>\n",
       "      <td>343.0</td>\n",
       "    </tr>\n",
       "  </tbody>\n",
       "</table>\n",
       "</div>"
      ],
      "text/plain": [
       "           Start date            End date  Start station number  \\\n",
       "0 2017-10-01 15:23:25 2017-10-01 15:26:26                 31038   \n",
       "1 2017-10-01 15:42:57 2017-10-01 17:49:59                 31036   \n",
       "2 2017-10-02 06:37:10 2017-10-02 06:42:53                 31036   \n",
       "\n",
       "                   Start station  End station number  \\\n",
       "0           Glebe Rd & 11th St N               31036   \n",
       "1  George Mason Dr & Wilson Blvd               31036   \n",
       "2  George Mason Dr & Wilson Blvd               31037   \n",
       "\n",
       "                            End station Bike number Member type  \\\n",
       "0         George Mason Dr & Wilson Blvd      W20529      Member   \n",
       "1         George Mason Dr & Wilson Blvd      W20529      Casual   \n",
       "2  Ballston Metro / N Stuart & 9th St N      W20529      Member   \n",
       "\n",
       "         Duration  total_seconds  \n",
       "0 0 days 00:03:01          181.0  \n",
       "1 0 days 02:07:02         7622.0  \n",
       "2 0 days 00:05:43          343.0  "
      ]
     },
     "execution_count": 10,
     "metadata": {},
     "output_type": "execute_result"
    }
   ],
   "source": [
    "print(rides[\"Duration\"].dt.total_seconds())\n",
    "ayrac()\n",
    "rides[\"total_seconds\"] = rides[\"Duration\"].dt.total_seconds()\n",
    "rides.head(3)"
   ]
  },
  {
   "cell_type": "markdown",
   "id": "75a1daeb",
   "metadata": {},
   "source": [
    "+ Her satırdaki Start date ve End date değerleri arasında geçen süreyi **dt.total_seconds()** işlevi ile gösterdik ve bunu **total_seconds** adlı yeni bir sütun olarak oluşturduk"
   ]
  },
  {
   "cell_type": "markdown",
   "id": "e0cc5e0c",
   "metadata": {},
   "source": [
    "## < Summarizing Datetime Data in Pandas > "
   ]
  },
  {
   "cell_type": "markdown",
   "id": "63503a30",
   "metadata": {},
   "source": [
    "Bu bölümde, bir önceki bölümde oluşturduğumuz sütunlar üzerinden matematiksel işlemler yapacağız. "
   ]
  },
  {
   "cell_type": "code",
   "execution_count": 11,
   "id": "d6716799",
   "metadata": {},
   "outputs": [
    {
     "data": {
      "text/plain": [
       "Timedelta('0 days 00:19:38.931034482')"
      ]
     },
     "execution_count": 11,
     "metadata": {},
     "output_type": "execute_result"
    }
   ],
   "source": [
    "rides[\"Duration\"].mean()"
   ]
  },
  {
   "cell_type": "markdown",
   "id": "8f6300bb",
   "metadata": {},
   "source": [
    "+ **Duration** sütunundaki değerlerin ortalamasını aldık. "
   ]
  },
  {
   "cell_type": "code",
   "execution_count": 12,
   "id": "3bbad74c",
   "metadata": {},
   "outputs": [
    {
     "name": "stdout",
     "output_type": "stream",
     "text": [
      "Member    236\n",
      "Casual     54\n",
      "Name: Member type, dtype: int64\n",
      "\n",
      "*****\n",
      "\n",
      "Member    0.813793\n",
      "Casual    0.186207\n",
      "Name: Member type, dtype: float64\n"
     ]
    }
   ],
   "source": [
    "print(rides[\"Member type\"].value_counts())\n",
    "ayrac()\n",
    "print(rides[\"Member type\"].value_counts() / len(rides))"
   ]
  },
  {
   "cell_type": "markdown",
   "id": "bbf4bc5f",
   "metadata": {},
   "source": [
    "+ **Member type** sütunundaki eşsiz değerleri ve bu sütundaki eşsiz değerlerde kaç tane veri olduğunu döndürdük. Bir altında ise bu eşsiz değerlerin yüzde kaçlık kısımları oluşturduğunu görebilmek için len(rides)'a böldük."
   ]
  },
  {
   "cell_type": "code",
   "execution_count": 13,
   "id": "8eae4fa4",
   "metadata": {},
   "outputs": [
    {
     "data": {
      "text/plain": [
       "Member type\n",
       "Casual    1994.666667\n",
       "Member     992.279661\n",
       "Name: total_seconds, dtype: float64"
      ]
     },
     "execution_count": 13,
     "metadata": {},
     "output_type": "execute_result"
    }
   ],
   "source": [
    "rides.groupby(\"Member type\")[\"total_seconds\"].mean()"
   ]
  },
  {
   "cell_type": "markdown",
   "id": "86cb8753",
   "metadata": {},
   "source": [
    "+ **Member type** sütunundaki eşsiz değerlerin, **total_seconds** sütununda karşılık gelen değerlerinin ortalamasını aldık. "
   ]
  },
  {
   "cell_type": "markdown",
   "id": "1737e5c9",
   "metadata": {},
   "source": [
    "Aşağıdaki kod bloklarında, **resample()** işlevi ile, Start date sütunundaki Ay (\"M\") kısmına göre gruplayıp işlemler yapalım."
   ]
  },
  {
   "cell_type": "code",
   "execution_count": 14,
   "id": "55e36245",
   "metadata": {
    "scrolled": true
   },
   "outputs": [
    {
     "name": "stdout",
     "output_type": "stream",
     "text": [
      "Member type  Start date\n",
      "Casual       2017-10-31    1636.0\n",
      "             2017-11-30    1159.5\n",
      "             2017-12-31     850.0\n",
      "Member       2017-10-31     671.0\n",
      "             2017-11-30     655.0\n",
      "             2017-12-31     387.5\n",
      "Name: total_seconds, dtype: float64\n"
     ]
    }
   ],
   "source": [
    "grouped = rides.groupby('Member type').resample(\"M\", on = \"Start date\")\n",
    "\n",
    "print(grouped[\"total_seconds\"].median())"
   ]
  },
  {
   "cell_type": "code",
   "execution_count": 15,
   "id": "a86dcfb5",
   "metadata": {
    "scrolled": true
   },
   "outputs": [
    {
     "name": "stdout",
     "output_type": "stream",
     "text": [
      "Start date  Member type\n",
      "2017-10-31  Member         0.768519\n",
      "            Casual         0.231481\n",
      "2017-11-30  Member         0.825243\n",
      "            Casual         0.174757\n",
      "2017-12-31  Member         0.860759\n",
      "            Casual         0.139241\n",
      "Name: Member type, dtype: float64\n"
     ]
    }
   ],
   "source": [
    "monthly_rides = rides.resample('M', on = 'Start date')['Member type']\n",
    "\n",
    "print(monthly_rides.value_counts() / monthly_rides.size())"
   ]
  }
 ],
 "metadata": {
  "kernelspec": {
   "display_name": "Python 3 (ipykernel)",
   "language": "python",
   "name": "python3"
  },
  "language_info": {
   "codemirror_mode": {
    "name": "ipython",
    "version": 3
   },
   "file_extension": ".py",
   "mimetype": "text/x-python",
   "name": "python",
   "nbconvert_exporter": "python",
   "pygments_lexer": "ipython3",
   "version": "3.9.13"
  }
 },
 "nbformat": 4,
 "nbformat_minor": 5
}
