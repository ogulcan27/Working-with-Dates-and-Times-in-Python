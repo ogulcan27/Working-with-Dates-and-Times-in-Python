{
 "cells": [
  {
   "cell_type": "markdown",
   "id": "0e950d87",
   "metadata": {},
   "source": [
    "# WORKING WITH DATES AND TIMES IN PYTHON"
   ]
  },
  {
   "cell_type": "markdown",
   "id": "65b27076",
   "metadata": {},
   "source": [
    "Kullanacağımız dosyaları içe aktaralım:"
   ]
  },
  {
   "cell_type": "code",
   "execution_count": 1,
   "id": "91d49ac4",
   "metadata": {},
   "outputs": [
    {
     "name": "stdout",
     "output_type": "stream",
     "text": [
      "[datetime.date(1988, 8, 4), datetime.date(1990, 10, 12), datetime.date(2003, 4, 20), datetime.date(1971, 9, 1), datetime.date(1988, 8, 23)]\n"
     ]
    }
   ],
   "source": [
    "import pickle\n",
    "\n",
    "file_path = \"florida_hurricane_dates.pkl\"\n",
    "with open(file_path, \"rb\") as file:\n",
    "    florida_hurricane_dates = pickle.load(file)\n",
    "    \n",
    "print(florida_hurricane_dates[0:5])"
   ]
  },
  {
   "cell_type": "code",
   "execution_count": 2,
   "id": "9477dc07",
   "metadata": {},
   "outputs": [
    {
     "name": "stdout",
     "output_type": "stream",
     "text": [
      "            Start date             End date  Start station number  \\\n",
      "0  2017-10-01 15:23:25  2017-10-01 15:26:26                 31038   \n",
      "1  2017-10-01 15:42:57  2017-10-01 17:49:59                 31036   \n",
      "2  2017-10-02 06:37:10  2017-10-02 06:42:53                 31036   \n",
      "\n",
      "                   Start station  End station number  \\\n",
      "0           Glebe Rd & 11th St N               31036   \n",
      "1  George Mason Dr & Wilson Blvd               31036   \n",
      "2  George Mason Dr & Wilson Blvd               31037   \n",
      "\n",
      "                            End station Bike number Member type  \n",
      "0         George Mason Dr & Wilson Blvd      W20529      Member  \n",
      "1         George Mason Dr & Wilson Blvd      W20529      Casual  \n",
      "2  Ballston Metro / N Stuart & 9th St N      W20529      Member  \n"
     ]
    }
   ],
   "source": [
    "import pandas as pd\n",
    "\n",
    "capital_onebike = pd.read_csv(\"capital-onebike.csv\")\n",
    "print(capital_onebike.head(3))"
   ]
  },
  {
   "cell_type": "markdown",
   "id": "f560baef",
   "metadata": {},
   "source": [
    "Çıktıları birbirinden ayırmak için ayrac() isimli bir fonksiyon yazalım. "
   ]
  },
  {
   "cell_type": "code",
   "execution_count": 3,
   "id": "fb857c87",
   "metadata": {},
   "outputs": [],
   "source": [
    "def ayrac():\n",
    "    print(\"\\n*****\\n\")"
   ]
  },
  {
   "cell_type": "markdown",
   "id": "84cb3873",
   "metadata": {},
   "source": [
    "# Combining Dates and Times"
   ]
  },
  {
   "cell_type": "markdown",
   "id": "6cbccb8f",
   "metadata": {},
   "source": [
    "+ Dates and times (Tarihler ve saatler)\n",
    "\n",
    "\n",
    "+ Printing and parsing datetimes (Tarih ve saatleri yazdırma ve ayrıştırma)\n",
    "\n",
    "\n",
    "+ Working with durations (Sürelerle çalışma)"
   ]
  },
  {
   "cell_type": "markdown",
   "id": "84db21b0",
   "metadata": {},
   "source": [
    "## < Dates and Times > "
   ]
  },
  {
   "cell_type": "markdown",
   "id": "f101c7ed",
   "metadata": {},
   "source": [
    "Hem tarih hem de saatlerle çalışacağız. Aşağıdaki kod bloklarında Python'a time'ı dahil etmeyi göreceğiz."
   ]
  },
  {
   "cell_type": "code",
   "execution_count": 4,
   "id": "6d4d85a5",
   "metadata": {},
   "outputs": [
    {
     "name": "stdout",
     "output_type": "stream",
     "text": [
      "2017-10-01 15:23:25.500000\n",
      "\n",
      "*****\n",
      "\n",
      "2017-10-01 15:00:00\n"
     ]
    }
   ],
   "source": [
    "from datetime import datetime\n",
    "\n",
    "#1\n",
    "dt = datetime(year = 2017, month = 10, day = 1, hour = 15, minute = 23,\n",
    "              second = 25, microsecond = 500000)\n",
    "print(dt)\n",
    "ayrac()\n",
    "\n",
    "#2\n",
    "dt_hr = dt.replace(minute = 0, second = 0, microsecond = 0)\n",
    "print(dt_hr)"
   ]
  },
  {
   "cell_type": "markdown",
   "id": "63b327b9",
   "metadata": {},
   "source": [
    "+ 1-) datetime modülünün date sınıfında olduğu gibi, datetime modülünde de ilk girilen 3 değer **'yıl, ay ve günü'** temsil etmekte. Sonraki 3 değerse, **'saat, dakika ve saniyeyi'** temsil etmektedir.\n",
    "\n",
    "\n",
    "+ 2-) **replace()** yöntemi ile mevcut olan tarihlerden yeni tarih saatleri oluşturulabilir."
   ]
  },
  {
   "cell_type": "markdown",
   "id": "0ff7592b",
   "metadata": {},
   "source": [
    "Aşağıdaki kod bloğunda, Capital Bikeshare bisikleti, W20529 için 1 Ekim 2017'den 31 Aralık 2017'ye kadar olan tüm bisiklet gezilerinin olduğu **onebike_datetimes** isimli bir listeyle çalışacağız. Öğleden önce mi yoksa sonra mı daha fazla gezi olmuş bunu hesaplayacağız. İlk olarak **onebike_datetimes** değişkenini **strptime** kullanarak oluşturalım.\n",
    "\n",
    "+ strptime() = https://www.programiz.com/python-programming/datetime/strptime"
   ]
  },
  {
   "cell_type": "code",
   "execution_count": 5,
   "id": "e9e89add",
   "metadata": {
    "scrolled": true
   },
   "outputs": [
    {
     "name": "stdout",
     "output_type": "stream",
     "text": [
      "{'start': datetime.datetime(2017, 10, 1, 15, 23, 25), 'end': datetime.datetime(2017, 10, 1, 15, 26, 26)}\n"
     ]
    }
   ],
   "source": [
    "from datetime import datetime\n",
    "\n",
    "new_df = capital_onebike[[\"Start date\", \"End date\"]]\n",
    "onebike_datetimes = [{\"start\": datetime.strptime(i, '%Y-%m-%d %H:%M:%S'),\n",
    "                      \"end\": datetime.strptime(j, '%Y-%m-%d %H:%M:%S')} for i, j in zip(new_df[\"Start date\"], new_df[\"End date\"])]\n",
    "print(onebike_datetimes[0])"
   ]
  },
  {
   "cell_type": "markdown",
   "id": "d5c49bf3",
   "metadata": {},
   "source": [
    "+ datetime fonksiyonu, yalnızca belirli bir biçimdeki dizeleri, tarih ve saat nesnelerine dönüştürebilir. Bu nedenle, i ve j değişkenlerinin datetime fonksiyonu ile dönüştürülmesi gerekmektedir. Ayrıca, listenin bir dizi sözlük içermesi gerektiğinden, döngüdeki sözlük anahtarları \"start\" ve \"end\" olarak belirtilmelidir. Burada kullandığımız **strptime()** işlevi, bir dizeyi bir tarih ve saat nesnesine dönüştürmek için kullanılır. Aldığı ilk argüman değiştirilecek olan metin dizisidir. İkinci argüman ise, hangi datetime türüne dönüşeceğidir."
   ]
  },
  {
   "cell_type": "code",
   "execution_count": 6,
   "id": "b840c71b",
   "metadata": {},
   "outputs": [
    {
     "name": "stdout",
     "output_type": "stream",
     "text": [
      "{'AM': 94, 'PM': 196}\n"
     ]
    }
   ],
   "source": [
    "#1\n",
    "trip_counts = {\"AM\" : 0, \"PM\" : 0}\n",
    "\n",
    "#2\n",
    "for trip in onebike_datetimes:\n",
    "    if trip[\"start\"].hour < 12:\n",
    "        trip_counts[\"AM\"] += 1\n",
    "    else:\n",
    "        trip_counts[\"PM\"] += 1\n",
    "        \n",
    "print(trip_counts)"
   ]
  },
  {
   "cell_type": "markdown",
   "id": "b083836f",
   "metadata": {},
   "source": [
    "+ 1-) Öğleden önce ve sonraki bisiklet kullanımlarını bir sözlük olacak şekilde **trip_counts** adlı değişkene atadık.\n",
    "\n",
    "\n",
    "+ 2-) for döngüsünde kullanılan **trip** değişkeni her döngüde, **onebike_datetimes'taki** her bir **start-end'den oluşan sözlüğü** temsil eder. Eğer bu sözlükteki start key'i 12'den küçükse öğleden önceye, değilse öğleden sonraya 1 eklenir. Böylece öğleden önce ve sonrası için ne kadar kullanım yapıldığı bulunmuş olur.\n",
    "\n",
    "  Ayrıca **zip()** işlevi, new_df'teki sütunların üzerinde, her ikisinde de ayrı ayrı döngü kurulmasını sağladı.\n",
    "  \n",
    "  zip() = https://www.programiz.com/python-programming/methods/built-in/zip"
   ]
  },
  {
   "cell_type": "markdown",
   "id": "23d2fcac",
   "metadata": {},
   "source": [
    "## < Printing and Parsing Datetimes > "
   ]
  },
  {
   "cell_type": "markdown",
   "id": "43ef58bb",
   "metadata": {},
   "source": [
    "Bir dizeyi alıp onu doğrudan bir datetime nesnesine dönüştürebiliriz. Bu bölümde bunu göreceğiz. Bu, **strptime()** işlevi ile yapılır. "
   ]
  },
  {
   "cell_type": "code",
   "execution_count": 7,
   "id": "e89c46f4",
   "metadata": {
    "scrolled": false
   },
   "outputs": [
    {
     "name": "stdout",
     "output_type": "stream",
     "text": [
      "2017-12-30 15:19:13\n",
      "2017-12-30T15:19:13\n",
      "\n",
      "*****\n",
      "\n",
      "2017-12-30 15:19:13\n",
      "<class 'datetime.datetime'>\n"
     ]
    }
   ],
   "source": [
    "#1\n",
    "dt = datetime(2017, 12, 30, 15, 19, 13)\n",
    "print(dt.strftime(\"%Y-%m-%d %H:%M:%S\"))\n",
    "print(dt.isoformat())\n",
    "ayrac()\n",
    "\n",
    "#2\n",
    "from datetime import datetime\n",
    "dt = datetime.strptime(\"12/30/2017 15:19:13\", \n",
    "                       \"%m/%d/%Y %H:%M:%S\")\n",
    "print(dt)\n",
    "print(type(dt))"
   ]
  },
  {
   "cell_type": "markdown",
   "id": "ceccfe7a",
   "metadata": {},
   "source": [
    "+ 1-) dt adlı değişkeni bir datetime nesnesi olarak atadık ve **strftime()** ile formatını değiştirdik. Ardından **isoformat()** ile **ISO 8601** formatında yazdırdık.\n",
    "\n",
    "\n",
    "+ 2-) dt adlı değişkende **strptime()** işlevini kullanarak string olan bir tarihi, datetime nesnesine çevirdik. \n",
    "\n",
    "\n",
    "+ **strptime() ve strftime() Farkı Nedir?**\n",
    "\n",
    "  strftime ve strptime, Python'daki datetime modülünde yer alan iki farklı fonksiyondur. strftime, bir tarih ve saat nesnesini biçimlendirmek için kullanılırken, strptime, bir dizeyi bir tarih ve saat nesnesine dönüştürmek için kullanılır."
   ]
  },
  {
   "cell_type": "markdown",
   "id": "e8a80c31",
   "metadata": {},
   "source": [
    "Aşağıdaki kod bloğunda, **onebike_datetimes** listesini tekrardan görelim."
   ]
  },
  {
   "cell_type": "code",
   "execution_count": 8,
   "id": "43260b11",
   "metadata": {},
   "outputs": [
    {
     "name": "stdout",
     "output_type": "stream",
     "text": [
      "{'start': datetime.datetime(2017, 10, 1, 15, 23, 25), 'end': datetime.datetime(2017, 10, 1, 15, 26, 26)}\n"
     ]
    }
   ],
   "source": [
    "from datetime import datetime\n",
    "\n",
    "new_df = capital_onebike[[\"Start date\", \"End date\"]]\n",
    "onebike_datetimes = [{\"start\": datetime.strptime(i, '%Y-%m-%d %H:%M:%S'),\n",
    "                      \"end\": datetime.strptime(j, '%Y-%m-%d %H:%M:%S')} for i, j in zip(new_df[\"Start date\"], new_df[\"End date\"])]\n",
    "print(onebike_datetimes[0])"
   ]
  },
  {
   "cell_type": "markdown",
   "id": "6da0315e",
   "metadata": {},
   "source": [
    "## < Working with Durations > "
   ]
  },
  {
   "cell_type": "markdown",
   "id": "79dc2b96",
   "metadata": {},
   "source": [
    "Tarihlerin olduğu gibi, saatlerin de kendi içerisinde bir matematiği vardır. Bu bölümde bunu göreceğiz."
   ]
  },
  {
   "cell_type": "code",
   "execution_count": 9,
   "id": "a2a1058f",
   "metadata": {},
   "outputs": [
    {
     "name": "stdout",
     "output_type": "stream",
     "text": [
      "0:24:10\n",
      "\n",
      "*****\n",
      "\n",
      "1450.0\n"
     ]
    }
   ],
   "source": [
    "#1\n",
    "from datetime import datetime \n",
    "start = datetime(2017, 10, 8, 23, 46, 47)\n",
    "end = datetime(2017, 10, 9, 0, 10, 57)\n",
    "\n",
    "duration = end - start\n",
    "print(duration)\n",
    "ayrac()\n",
    "\n",
    "#2\n",
    "print(duration.total_seconds())"
   ]
  },
  {
   "cell_type": "markdown",
   "id": "41d49d6a",
   "metadata": {},
   "source": [
    "+ 1-) **start** ve **end** olarak 2 adet datetime nesnesi oluşturduk ve **duration** adlı değişkene bunlar arasındaki farkı atadık ve bunu yazdırdık. Sonuç olarak, end ve start arasındaki süreyi bize verdi \n",
    "\n",
    "\n",
    "+ 2-) **total_seconds()** işlevi ile aradan kaç saniye geçtiğini döndürdük."
   ]
  }
 ],
 "metadata": {
  "kernelspec": {
   "display_name": "Python 3 (ipykernel)",
   "language": "python",
   "name": "python3"
  },
  "language_info": {
   "codemirror_mode": {
    "name": "ipython",
    "version": 3
   },
   "file_extension": ".py",
   "mimetype": "text/x-python",
   "name": "python",
   "nbconvert_exporter": "python",
   "pygments_lexer": "ipython3",
   "version": "3.9.13"
  }
 },
 "nbformat": 4,
 "nbformat_minor": 5
}
